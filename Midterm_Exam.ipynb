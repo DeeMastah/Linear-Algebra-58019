{
  "nbformat": 4,
  "nbformat_minor": 0,
  "metadata": {
    "colab": {
      "name": "Midterm Exam.ipynb",
      "provenance": [],
      "authorship_tag": "ABX9TyPl4DcUiVSadIrSPdbFvcl5",
      "include_colab_link": true
    },
    "kernelspec": {
      "name": "python3",
      "display_name": "Python 3"
    },
    "language_info": {
      "name": "python"
    }
  },
  "cells": [
    {
      "cell_type": "markdown",
      "metadata": {
        "id": "view-in-github",
        "colab_type": "text"
      },
      "source": [
        "<a href=\"https://colab.research.google.com/github/DeeMastah/Linear-Algebra-58019/blob/main/Midterm_Exam.ipynb\" target=\"_parent\"><img src=\"https://colab.research.google.com/assets/colab-badge.svg\" alt=\"Open In Colab\"/></a>"
      ]
    },
    {
      "cell_type": "code",
      "metadata": {
        "id": "rJP6Yfz54yk7"
      },
      "source": [
        "import numpy as np"
      ],
      "execution_count": 2,
      "outputs": []
    },
    {
      "cell_type": "markdown",
      "metadata": {
        "id": "DMJvypAS3RGH"
      },
      "source": [
        "Question 1. Create a Python code that displays a square matrix whose length is 5 "
      ]
    },
    {
      "cell_type": "code",
      "metadata": {
        "colab": {
          "base_uri": "https://localhost:8080/"
        },
        "id": "dVd-AFQ83I9K",
        "outputId": "8d0dfbad-5221-42f2-8708-4e725f709a54"
      },
      "source": [
        "#Sets the size of the matrix\n",
        "size = (5,5)  \n",
        "#Creates a square matrix whose length is 5\n",
        "square_matrix = np.zeros(size)\n",
        "\n",
        "#Prints a square matrix whose length is 5\n",
        "print('A square matrix with a length of 5')\n",
        "print(square_matrix)\n"
      ],
      "execution_count": 38,
      "outputs": [
        {
          "output_type": "stream",
          "name": "stdout",
          "text": [
            "A square matrix with a length of 5\n",
            "[[0. 0. 0. 0. 0.]\n",
            " [0. 0. 0. 0. 0.]\n",
            " [0. 0. 0. 0. 0.]\n",
            " [0. 0. 0. 0. 0.]\n",
            " [0. 0. 0. 0. 0.]]\n"
          ]
        }
      ]
    },
    {
      "cell_type": "markdown",
      "metadata": {
        "id": "eFM-JVTh3_mG"
      },
      "source": [
        "Question 2. Create a Python code that displays a square matrix whose elements below the principal diagonal are zero"
      ]
    },
    {
      "cell_type": "code",
      "metadata": {
        "colab": {
          "base_uri": "https://localhost:8080/"
        },
        "id": "Rl8ib2sV4AEJ",
        "outputId": "9a179148-5c72-4b8a-f971-030c2c13bfdc"
      },
      "source": [
        "#Creates a square matrix whose elements below the principal diagonal are zero\n",
        "square_matrix = np.array([[1,2,3,4,5],\n",
        "                          [0,1,2,3,4],\n",
        "                          [0,0,1,2,3],\n",
        "                          [0,0,0,1,2],\n",
        "                          [0,0,0,0,1]])\n",
        "\n",
        "#Prints a square matrix whose elements below the principal diagonal are zero\n",
        "print('A square matrix whose elements below the principal diagonal are zero')\n",
        "print(square_matrix)"
      ],
      "execution_count": 43,
      "outputs": [
        {
          "output_type": "stream",
          "name": "stdout",
          "text": [
            "A square matrix whose elements below the principal diagonal are zero\n",
            "[[1 2 3 4 5]\n",
            " [0 1 2 3 4]\n",
            " [0 0 1 2 3]\n",
            " [0 0 0 1 2]\n",
            " [0 0 0 0 1]]\n"
          ]
        }
      ]
    },
    {
      "cell_type": "markdown",
      "metadata": {
        "id": "R1IB4wAp4Aar"
      },
      "source": [
        "Question 3. Create a Python code that displays a square matrix which is symmetrical"
      ]
    },
    {
      "cell_type": "code",
      "metadata": {
        "colab": {
          "base_uri": "https://localhost:8080/"
        },
        "id": "1y8Y-V_S4Ar_",
        "outputId": "5dd75cc9-6c70-4a0d-bd44-ba83d05ce2a1"
      },
      "source": [
        "#Creates a square matrix  which is symmetrical\n",
        "square_matrix = np.array([[1,2,3,4,5],\n",
        "                          [2,1,2,3,4],\n",
        "                          [3,2,1,2,3],\n",
        "                          [4,3,2,1,2],\n",
        "                          [5,4,3,2,1]])\n",
        "\n",
        "#Prints a square matrix which is symmetrical\n",
        "print('A square matrix which is symmetrical')\n",
        "print(square_matrix)"
      ],
      "execution_count": 44,
      "outputs": [
        {
          "output_type": "stream",
          "name": "stdout",
          "text": [
            "A square matrix hich is symmetrical\n",
            "[[1 2 3 4 5]\n",
            " [2 1 2 3 4]\n",
            " [3 2 1 2 3]\n",
            " [4 3 2 1 2]\n",
            " [5 4 3 2 1]]\n"
          ]
        }
      ]
    },
    {
      "cell_type": "markdown",
      "metadata": {
        "id": "ZAnEm9fy4A5U"
      },
      "source": [
        "Question 4. What is the inverse of matrix C? Show your solution by python coding."
      ]
    },
    {
      "cell_type": "code",
      "metadata": {
        "colab": {
          "base_uri": "https://localhost:8080/"
        },
        "id": "_ba4K5i34GX3",
        "outputId": "0cb693e1-859f-486a-edf5-dd8faf29e3a2"
      },
      "source": [
        "C = np.array ([[1,2,3],\n",
        "               [2,3,3],\n",
        "               [3,4,-2]])\n",
        "\n",
        "#Gets the inverse of Matrix C\n",
        "invC = np.linalg.inv(C)\n",
        "\n",
        "#Prints the inverse of Matrix C\n",
        "print(\"Inverse of Matrix C:\")\n",
        "print(invC)"
      ],
      "execution_count": 27,
      "outputs": [
        {
          "output_type": "stream",
          "name": "stdout",
          "text": [
            "Inverse of Matrix C:\n",
            "[[-3.6  3.2 -0.6]\n",
            " [ 2.6 -2.2  0.6]\n",
            " [-0.2  0.4 -0.2]]\n"
          ]
        }
      ]
    },
    {
      "cell_type": "markdown",
      "metadata": {
        "id": "xC4TH6_M4Itp"
      },
      "source": [
        "Question 5. What is the determinant of the given matrix in Question 4? Show your solution by python coding. (20 points)"
      ]
    },
    {
      "cell_type": "code",
      "metadata": {
        "colab": {
          "base_uri": "https://localhost:8080/"
        },
        "id": "03PDRzvS4IZd",
        "outputId": "9f8a77dd-b771-473b-e7cc-8ee19c2df2ec"
      },
      "source": [
        "C = np.array ([[1,2,3],\n",
        "               [2,3,3],\n",
        "               [3,4,-2]])\n",
        "#Gets the determinant of the given matrix in question 4\n",
        "detOfC = np.linalg.det(C)\n",
        "\n",
        "#Prints the determinant of the given matrix in question 4\n",
        "print(\"Determinant of the given matrix in Question 4:\")\n",
        "print(int(detOfC))"
      ],
      "execution_count": 10,
      "outputs": [
        {
          "output_type": "stream",
          "name": "stdout",
          "text": [
            "Determinant of the given matrix in Question 4:\n",
            "5\n"
          ]
        }
      ]
    },
    {
      "cell_type": "markdown",
      "metadata": {
        "id": "EXyGlqdv4LNT"
      },
      "source": [
        "Question 6. Find the roots of the linear equations by showing its python codes (30 points)\n",
        "\n",
        "5X1 + 4X2 + X3 = 3.4\n",
        "\n",
        "10X1 + 9X2 + 4X3 = 8.8\n",
        "\n",
        "10X1 + 13X2 + 15X3 = 19.2"
      ]
    },
    {
      "cell_type": "code",
      "metadata": {
        "colab": {
          "base_uri": "https://localhost:8080/"
        },
        "id": "7ELIOO1A4Ldy",
        "outputId": "5e8a06d8-1b26-4cba-938a-57d1d9a5bca0"
      },
      "source": [
        "eq = np.array([[5,4,1],\n",
        "               [10,9,4],\n",
        "               [10,13,15]])\n",
        "\n",
        "const = np.array([[[3.4],\n",
        "                   [8.8],\n",
        "                   [19.2]]])\n",
        "\n",
        "#Gets the root of the given linear equations\n",
        "roots = np.linalg.inv(eq) @ const\n",
        "\n",
        "#Prints the root of the given linear equations\n",
        "print(\"Roots of the given linear equations:\")\n",
        "print(roots)"
      ],
      "execution_count": 16,
      "outputs": [
        {
          "output_type": "stream",
          "name": "stdout",
          "text": [
            "Roots of the given linear equations:\n",
            "[[[0.2]\n",
            "  [0.4]\n",
            "  [0.8]]]\n"
          ]
        }
      ]
    }
  ]
}