{
  "nbformat": 4,
  "nbformat_minor": 0,
  "metadata": {
    "colab": {
      "name": " Practical Lab Exam 1.ipynb",
      "provenance": [],
      "authorship_tag": "ABX9TyPTY69B+dNYml5LTFDeR2Kh",
      "include_colab_link": true
    },
    "kernelspec": {
      "name": "python3",
      "display_name": "Python 3"
    },
    "language_info": {
      "name": "python"
    }
  },
  "cells": [
    {
      "cell_type": "markdown",
      "metadata": {
        "id": "view-in-github",
        "colab_type": "text"
      },
      "source": [
        "<a href=\"https://colab.research.google.com/github/DeeMastah/Linear-Algebra-58019/blob/main/Practical_Lab_Exam_1.ipynb\" target=\"_parent\"><img src=\"https://colab.research.google.com/assets/colab-badge.svg\" alt=\"Open In Colab\"/></a>"
      ]
    },
    {
      "cell_type": "code",
      "metadata": {
        "colab": {
          "base_uri": "https://localhost:8080/"
        },
        "id": "igQBIdVyn7ZC",
        "outputId": "d54866b8-a6af-4803-a330-05c882344bbc"
      },
      "source": [
        "import numpy as np\n",
        "A = np.array([[1,2,3],[4,5,6]])\n",
        "B = np.array([[1,2],[3,4],[5,6]]) \n",
        "C = np.array([[1,2,3],[4,5,6],[7,8,9]])\n",
        "D = np.array([[1,2],[3,4]]) \n",
        "\n",
        "a = np.dot(A,B)\n",
        "b = np.add(D,D)\n",
        "c = 2*C\n",
        "\n",
        "print(\"Problem 1\\n\\nA.\")\n",
        "print(a)\n",
        "print(\"\\nB.\")\n",
        "print(b)\n",
        "print(\"\\nC.\")\n",
        "print(c)\n"
      ],
      "execution_count": 21,
      "outputs": [
        {
          "output_type": "stream",
          "name": "stdout",
          "text": [
            "Problem 1\n",
            "\n",
            "A.\n",
            "[[22 28]\n",
            " [49 64]]\n",
            "\n",
            "B.\n",
            "[[2 4]\n",
            " [6 8]]\n",
            "\n",
            "C.\n",
            "[[ 2  4  6]\n",
            " [ 8 10 12]\n",
            " [14 16 18]]\n"
          ]
        }
      ]
    },
    {
      "cell_type": "code",
      "metadata": {
        "colab": {
          "base_uri": "https://localhost:8080/"
        },
        "id": "14DgB6ZHsORW",
        "outputId": "258696f2-687c-45a5-88ea-b2cf8ade26f5"
      },
      "source": [
        "import numpy as np\n",
        "X = np.array([5,3,-1])\n",
        "\n",
        "print(\"Problem 2\\n\\nCorresponding matrix to θ = 5x + 3y -z\")\n",
        "print(X)\n",
        "#Type\n",
        "print(\"\\nType:\")\n",
        "print(type(X))\n",
        "#Dimension\n",
        "print(\"\\nDimension:\")\n",
        "print(X.ndim)\n",
        "#Shape\n",
        "print(\"\\nShape:\")\n",
        "print(X.shape)\n",
        "#Size\n",
        "print(\"\\nSize:\")\n",
        "print(X.size)"
      ],
      "execution_count": 24,
      "outputs": [
        {
          "output_type": "stream",
          "name": "stdout",
          "text": [
            "Problem 2\n",
            "\n",
            "Corresponding matrix to θ = 5x + 3y -z\n",
            "[ 5  3 -1]\n",
            "\n",
            "Type:\n",
            "<class 'numpy.ndarray'>\n",
            "\n",
            "Dimension:\n",
            "1\n",
            "\n",
            "Shape:\n",
            "(3,)\n",
            "\n",
            "Size:\n",
            "3\n"
          ]
        }
      ]
    }
  ]
}