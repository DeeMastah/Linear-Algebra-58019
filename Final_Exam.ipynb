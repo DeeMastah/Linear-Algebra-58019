{
  "nbformat": 4,
  "nbformat_minor": 0,
  "metadata": {
    "colab": {
      "name": "Final Exam.ipynb",
      "provenance": [],
      "authorship_tag": "ABX9TyP7omfnuB+A5mahml+VJrPB",
      "include_colab_link": true
    },
    "kernelspec": {
      "name": "python3",
      "display_name": "Python 3"
    },
    "language_info": {
      "name": "python"
    }
  },
  "cells": [
    {
      "cell_type": "markdown",
      "metadata": {
        "id": "view-in-github",
        "colab_type": "text"
      },
      "source": [
        "<a href=\"https://colab.research.google.com/github/DeeMastah/Linear-Algebra-58019/blob/main/Final_Exam.ipynb\" target=\"_parent\"><img src=\"https://colab.research.google.com/assets/colab-badge.svg\" alt=\"Open In Colab\"/></a>"
      ]
    },
    {
      "cell_type": "code",
      "source": [
        "import numpy as np\n",
        "from numpy.linalg import eig"
      ],
      "metadata": {
        "id": "LAGm_UvQLEIj"
      },
      "execution_count": 11,
      "outputs": []
    },
    {
      "cell_type": "markdown",
      "source": [
        "Problem 1. Student A, Student B, and Student C have a total of Php 89 cash in their banks. Student A has 6 less than Student C. Student B has 3 times what Student C has. How much does each student have? (30 points)"
      ],
      "metadata": {
        "id": "Ke8TPsTIKRYn"
      }
    },
    {
      "cell_type": "code",
      "execution_count": 31,
      "metadata": {
        "colab": {
          "base_uri": "https://localhost:8080/"
        },
        "id": "78HFrPsyKL69",
        "outputId": "a0ead9f2-ec85-4a29-9159-fc5608e6b119"
      },
      "outputs": [
        {
          "output_type": "stream",
          "name": "stdout",
          "text": [
            "Matrix A:\n",
            "[[1 1 1]\n",
            " [1 0 4]\n",
            " [0 0 5]]\n",
            "\n",
            "Matrix B:\n",
            "[[89]\n",
            " [89]\n",
            " [95]]\n",
            "\n",
            "Answer:\n",
            "[[13.]\n",
            " [57.]\n",
            " [19.]]\n"
          ]
        }
      ],
      "source": [
        "A = np.array([[1,1,1],[1,0,4],[0,0,5]]) #Creates the 3x3 matrix \n",
        "B = np.array([[89],[89],[95]]) #Creates the matrix from the right hand side \n",
        "\n",
        "print(\"Matrix A:\")\n",
        "print(A) #Prints out Matrix A\n",
        "print(\"\\nMatrix B:\")\n",
        "print(B) #Prints out Matrix B\n",
        "\n",
        "print(\"\\nAnswer:\")\n",
        "X = np.linalg.inv(A).dot(B)\n",
        "print(X)"
      ]
    },
    {
      "cell_type": "markdown",
      "source": [
        "Problem 2. Solve each system: (30 points)\n",
        "\n",
        "3x - y + z = 5\n",
        "\n",
        "9x - 3y +3z = 15\n",
        "\n",
        "-12x +4y -4z = -20 "
      ],
      "metadata": {
        "id": "SoBBWIfiKSiX"
      }
    },
    {
      "cell_type": "code",
      "source": [
        "A = np.array([[3,-1,1],[9,-3,3],[-12,4,-4]]) #Creates the 3x3 matrix from the system of equations\n",
        "print(A)#Prints the matrix\n",
        "\n",
        "B = np.array([[5],[15],[-20]]) #Creates the matrix from the right hand side of the systems\n",
        "print (B)#Prints the matrix\n",
        "\n",
        "Apinv = np.linalg.pinv(A) #Computes for the pseudo inverse of A\n",
        "x = Apinv.dot(B) # apply the pseudo-inverse to the right hand side vector to get the solution\n",
        "\n",
        "print(\"\\nSolution:\")\n",
        "print(x) #Displays the solution\n",
        " "
      ],
      "metadata": {
        "colab": {
          "base_uri": "https://localhost:8080/"
        },
        "id": "VA40nuAtKSVN",
        "outputId": "7bfd22b9-792a-4aa0-e15c-40fc895ad342"
      },
      "execution_count": 28,
      "outputs": [
        {
          "output_type": "stream",
          "name": "stdout",
          "text": [
            "[[  3  -1   1]\n",
            " [  9  -3   3]\n",
            " [-12   4  -4]]\n",
            "[[  5]\n",
            " [ 15]\n",
            " [-20]]\n",
            "\n",
            "Solution:\n",
            "[[ 1.36363636]\n",
            " [-0.45454545]\n",
            " [ 0.45454545]]\n"
          ]
        }
      ]
    },
    {
      "cell_type": "markdown",
      "source": [
        "Problem 3. Consider the matrix, (40 points) "
      ],
      "metadata": {
        "id": "QcNCAYwsKTVp"
      }
    },
    {
      "cell_type": "code",
      "source": [
        "X = np.array([[8,5,-6],[-12,-9,12],[-3,-3,5]]) #Creates a 3x3 Matrix\n",
        "\n",
        "print(\"3x3 Matrix: \")\n",
        "print(X,\"\\n\") #Prints the matrix\n",
        "\n",
        "w,v = np.linalg.eig(X)  #The eig method to get the eigenvalue and eigenvector\n",
        "print(\"The eigenvalues are:\\n\",w.round(),\"\\n\")#Displays the eigenvalues\n",
        "print(\"The eigenvectors are:\\n\",v.round())#Displays the eigenvectors"
      ],
      "metadata": {
        "colab": {
          "base_uri": "https://localhost:8080/"
        },
        "id": "xDOJVXn8KT02",
        "outputId": "b312ccb6-f7ce-4548-e70c-9f6a36f99ab6"
      },
      "execution_count": 8,
      "outputs": [
        {
          "output_type": "stream",
          "name": "stdout",
          "text": [
            "3x3 Matrix: \n",
            "[[  8   5  -6]\n",
            " [-12  -9  12]\n",
            " [ -3  -3   5]] \n",
            "\n",
            "The eigenvalues are:\n",
            " [-1.  3.  2.] \n",
            "\n",
            "The eigenvectors are:\n",
            " [[ 0. -1.  1.]\n",
            " [-1.  1.  0.]\n",
            " [-0. -0.  1.]]\n"
          ]
        }
      ]
    }
  ]
}