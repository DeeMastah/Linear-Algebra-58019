{
  "nbformat": 4,
  "nbformat_minor": 0,
  "metadata": {
    "colab": {
      "name": "Matrix Algebra.ipynb",
      "provenance": [],
      "authorship_tag": "ABX9TyPc6qGKdce42u5jXQMexlnq",
      "include_colab_link": true
    },
    "kernelspec": {
      "name": "python3",
      "display_name": "Python 3"
    },
    "language_info": {
      "name": "python"
    }
  },
  "cells": [
    {
      "cell_type": "markdown",
      "metadata": {
        "id": "view-in-github",
        "colab_type": "text"
      },
      "source": [
        "<a href=\"https://colab.research.google.com/github/DeeMastah/Linear-Algebra-58019/blob/main/Matrix_Algebra.ipynb\" target=\"_parent\"><img src=\"https://colab.research.google.com/assets/colab-badge.svg\" alt=\"Open In Colab\"/></a>"
      ]
    },
    {
      "cell_type": "code",
      "metadata": {
        "id": "fZufyxcv-bZ_"
      },
      "source": [
        "import numpy as np "
      ],
      "execution_count": 2,
      "outputs": []
    },
    {
      "cell_type": "code",
      "metadata": {
        "colab": {
          "base_uri": "https://localhost:8080/"
        },
        "id": "9Sexa6qA_oFg",
        "outputId": "9a364476-fd12-4c5f-ef93-1de3716c42ee"
      },
      "source": [
        "A = np.array ([[1,2],[4,7]])\n",
        "\n",
        "invA = np.linalg.inv(A) #Inverse of Matrix A\n",
        "\n",
        "print(invA)"
      ],
      "execution_count": 5,
      "outputs": [
        {
          "output_type": "stream",
          "name": "stdout",
          "text": [
            "[[-7.  2.]\n",
            " [ 4. -1.]]\n"
          ]
        }
      ]
    },
    {
      "cell_type": "code",
      "metadata": {
        "colab": {
          "base_uri": "https://localhost:8080/"
        },
        "id": "TJRAcIjyAArI",
        "outputId": "4d2a8609-af8a-4f67-9ac7-7483ab473abd"
      },
      "source": [
        "C = np.dot(A, invA) #Get identity matrix\n",
        "print(C)"
      ],
      "execution_count": 6,
      "outputs": [
        {
          "output_type": "stream",
          "name": "stdout",
          "text": [
            "[[1. 0.]\n",
            " [0. 1.]]\n"
          ]
        }
      ]
    },
    {
      "cell_type": "code",
      "metadata": {
        "colab": {
          "base_uri": "https://localhost:8080/"
        },
        "id": "HOjLg3s5AHBF",
        "outputId": "b3b14b57-8c3d-43bd-c99d-b763b6645576"
      },
      "source": [
        "A = np.array ([[6,1,1],[4,-2,5],[2,8,7]])\n",
        "\n",
        "InvOfA = np.linalg.inv(A) #To inverse Matrix A\n",
        "\n",
        "print(A)\n",
        "\n",
        "B = np.transpose(A) #To transpose Matrix A\n",
        "\n",
        "print (B)"
      ],
      "execution_count": 12,
      "outputs": [
        {
          "output_type": "stream",
          "name": "stdout",
          "text": [
            "[[ 6  1  1]\n",
            " [ 4 -2  5]\n",
            " [ 2  8  7]]\n",
            "[[ 6  4  2]\n",
            " [ 1 -2  8]\n",
            " [ 1  5  7]]\n"
          ]
        }
      ]
    },
    {
      "cell_type": "code",
      "metadata": {
        "colab": {
          "base_uri": "https://localhost:8080/"
        },
        "id": "OVhokqzBAegt",
        "outputId": "ed369378-10c8-463c-c6f6-ddb44f4d9552"
      },
      "source": [
        "dot = np.dot(A, InvOfA) #Get dot product of A and its inverse\n",
        "\n",
        "print(dot)"
      ],
      "execution_count": 13,
      "outputs": [
        {
          "output_type": "stream",
          "name": "stdout",
          "text": [
            "[[ 1.00000000e+00  0.00000000e+00  2.77555756e-17]\n",
            " [-1.38777878e-17  1.00000000e+00  1.38777878e-17]\n",
            " [-4.16333634e-17  1.38777878e-16  1.00000000e+00]]\n"
          ]
        }
      ]
    },
    {
      "cell_type": "markdown",
      "metadata": {
        "id": "-86B88hRBCwt"
      },
      "source": [
        "#Coding Activity 3\n",
        "\n",
        "Create a Python Program to inverse and transpose a 4x4 matrix,\n",
        "A = ( [6,1,1,3],[4,-2,5,1],[2,8,7,6],[3,1,9,7] )"
      ]
    },
    {
      "cell_type": "code",
      "metadata": {
        "colab": {
          "base_uri": "https://localhost:8080/"
        },
        "id": "pRkqFlgq-uGq",
        "outputId": "7f182c88-48c5-43d8-e549-23c4cf4d5879"
      },
      "source": [
        "A = np.array([[6,1,1,3],[4,-2,5,1],[2,8,7,6],[3,1,9,7]])\n",
        "\n",
        "InvOfA = np.linalg.inv(A) #To inverse Matrix A\n",
        "\n",
        "print(A)\n",
        "\n",
        "B = np.transpose(A) #To transpose Matrix A\n",
        "\n",
        "print (B)"
      ],
      "execution_count": 14,
      "outputs": [
        {
          "output_type": "stream",
          "name": "stdout",
          "text": [
            "[[ 6  1  1  3]\n",
            " [ 4 -2  5  1]\n",
            " [ 2  8  7  6]\n",
            " [ 3  1  9  7]]\n",
            "[[ 6  4  2  3]\n",
            " [ 1 -2  8  1]\n",
            " [ 1  5  7  9]\n",
            " [ 3  1  6  7]]\n"
          ]
        }
      ]
    }
  ]
}