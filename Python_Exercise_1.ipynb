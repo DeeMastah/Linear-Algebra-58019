{
  "nbformat": 4,
  "nbformat_minor": 0,
  "metadata": {
    "colab": {
      "name": "Python Exercise 1.ipynb",
      "provenance": [],
      "collapsed_sections": [],
      "authorship_tag": "ABX9TyNpvsOYSzNqlhGuDuWCxe9G",
      "include_colab_link": true
    },
    "kernelspec": {
      "name": "python3",
      "display_name": "Python 3"
    },
    "language_info": {
      "name": "python"
    }
  },
  "cells": [
    {
      "cell_type": "markdown",
      "metadata": {
        "id": "view-in-github",
        "colab_type": "text"
      },
      "source": [
        "<a href=\"https://colab.research.google.com/github/DeeMastah/Linear-Algebra-58019/blob/main/Python_Exercise_1.ipynb\" target=\"_parent\"><img src=\"https://colab.research.google.com/assets/colab-badge.svg\" alt=\"Open In Colab\"/></a>"
      ]
    },
    {
      "cell_type": "code",
      "metadata": {
        "colab": {
          "base_uri": "https://localhost:8080/"
        },
        "id": "AKJMyufk7_La",
        "outputId": "e75cf8c2-6e22-42af-fc77-186432720113"
      },
      "source": [
        "import numpy as np\n",
        "A = np.array([[-5,0],[4,1]]) \n",
        "B = np.array([[6,-3],[2,3]]) \n",
        "\n",
        "sum = np.add(A,B)\n",
        "difference1 = np.subtract(A,B)\n",
        "difference2 = np.subtract(B,A)\n",
        "\n",
        "print(\"Sum of A and B:\")\n",
        "print(sum)\n",
        "print(\"\\nDifference of A and B:\")\n",
        "print(difference1)\n",
        "print(\"\\nDifference of B and A:\")\n",
        "print(difference2)"
      ],
      "execution_count": 5,
      "outputs": [
        {
          "output_type": "stream",
          "name": "stdout",
          "text": [
            "Sum of A and B:\n",
            "[[ 1 -3]\n",
            " [ 6  4]]\n",
            "\n",
            "Difference of A and B:\n",
            "[[-11   3]\n",
            " [  2  -2]]\n",
            "\n",
            "Difference of B and A:\n",
            "[[11 -3]\n",
            " [-2  2]]\n"
          ]
        }
      ]
    }
  ]
}