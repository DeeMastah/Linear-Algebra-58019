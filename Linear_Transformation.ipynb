{
  "nbformat": 4,
  "nbformat_minor": 0,
  "metadata": {
    "colab": {
      "name": "Linear Transformation.ipynb",
      "provenance": [],
      "authorship_tag": "ABX9TyP4I5Iuv7y2cuCTmIQCV7LK",
      "include_colab_link": true
    },
    "kernelspec": {
      "name": "python3",
      "display_name": "Python 3"
    },
    "language_info": {
      "name": "python"
    }
  },
  "cells": [
    {
      "cell_type": "markdown",
      "metadata": {
        "id": "view-in-github",
        "colab_type": "text"
      },
      "source": [
        "<a href=\"https://colab.research.google.com/github/DeeMastah/Linear-Algebra-58019/blob/main/Linear_Transformation.ipynb\" target=\"_parent\"><img src=\"https://colab.research.google.com/assets/colab-badge.svg\" alt=\"Open In Colab\"/></a>"
      ]
    },
    {
      "cell_type": "markdown",
      "metadata": {
        "id": "FbrlTsaVVnuN"
      },
      "source": [
        "##To find the Inverse of a Matrix, the matrix is passed to the linalg.Inv() of the NumPy module:"
      ]
    },
    {
      "cell_type": "code",
      "metadata": {
        "colab": {
          "base_uri": "https://localhost:8080/"
        },
        "id": "xNQBv2W2VTGI",
        "outputId": "d139047d-1c08-491a-f1d6-cd000419d010"
      },
      "source": [
        "import numpy as np\n",
        "A= np.array([[4,3],[-5,9]]) #Creation of matrix A\n",
        "print(A) #to display or print\n",
        "\n",
        "inv_A = np.linalg.inv(A) #to declare and creation of Inverse of A\n",
        "print(inv_A) #to display or print"
      ],
      "execution_count": 1,
      "outputs": [
        {
          "output_type": "stream",
          "name": "stdout",
          "text": [
            "[[ 4  3]\n",
            " [-5  9]]\n",
            "[[ 0.17647059 -0.05882353]\n",
            " [ 0.09803922  0.07843137]]\n"
          ]
        }
      ]
    },
    {
      "cell_type": "code",
      "metadata": {
        "colab": {
          "base_uri": "https://localhost:8080/"
        },
        "id": "01cqM2DMVrCL",
        "outputId": "20623553-3df6-434e-8c87-bcf12d5b532f"
      },
      "source": [
        "B= np.array([[20],[26]]) #creation of Matrix B\n",
        "print(B)"
      ],
      "execution_count": 2,
      "outputs": [
        {
          "output_type": "stream",
          "name": "stdout",
          "text": [
            "[[20]\n",
            " [26]]\n"
          ]
        }
      ]
    },
    {
      "cell_type": "code",
      "metadata": {
        "colab": {
          "base_uri": "https://localhost:8080/"
        },
        "id": "k_bQR3MRVr4-",
        "outputId": "0991300a-029d-46b0-946d-bcd1355b2a50"
      },
      "source": [
        "X= np.linalg.inv(A).dot(B) #compute for the dot product of Inv of A & value of B\n",
        "print(X)"
      ],
      "execution_count": 3,
      "outputs": [
        {
          "output_type": "stream",
          "name": "stdout",
          "text": [
            "[[2.]\n",
            " [4.]]\n"
          ]
        }
      ]
    },
    {
      "cell_type": "code",
      "metadata": {
        "colab": {
          "base_uri": "https://localhost:8080/"
        },
        "id": "groggoE-VtXN",
        "outputId": "3f13f601-2d71-4916-9ae8-f682c5a7f471"
      },
      "source": [
        "X= np.dot(inv_A,B) #to compute for the dot product of Inv of A and B\n",
        "print(X)"
      ],
      "execution_count": 4,
      "outputs": [
        {
          "output_type": "stream",
          "name": "stdout",
          "text": [
            "[[2.]\n",
            " [4.]]\n"
          ]
        }
      ]
    },
    {
      "cell_type": "markdown",
      "metadata": {
        "id": "VJpCUTWbVy6Y"
      },
      "source": [
        "##You Try!"
      ]
    },
    {
      "cell_type": "code",
      "metadata": {
        "colab": {
          "base_uri": "https://localhost:8080/"
        },
        "id": "fK-YU3E7Vw2R",
        "outputId": "2ebba582-06f9-4d74-e894-dbff6d936507"
      },
      "source": [
        "X = np.array([[4,3,2],[-2,2,3],[3,-5,2]]) #creation of Matrix X\n",
        "y = np.array([[25],[-10],[-4]]) #creation of Matix y\n",
        "\n",
        "inv_X = np.linalg.inv(X) #to Inverse the Matrix X\n",
        "b = np.linalg.inv(X).dot(y) #To get dot product of Inverse of X and y\n",
        "\n",
        "#to print or display\n",
        "print(X)\n",
        "print()\n",
        "print(inv_X)\n",
        "print()\n",
        "print(y)\n",
        "print()\n",
        "print(b)"
      ],
      "execution_count": 5,
      "outputs": [
        {
          "output_type": "stream",
          "name": "stdout",
          "text": [
            "[[ 4  3  2]\n",
            " [-2  2  3]\n",
            " [ 3 -5  2]]\n",
            "\n",
            "[[ 0.15447154 -0.1300813   0.04065041]\n",
            " [ 0.10569106  0.01626016 -0.1300813 ]\n",
            " [ 0.03252033  0.23577236  0.11382114]]\n",
            "\n",
            "[[ 25]\n",
            " [-10]\n",
            " [ -4]]\n",
            "\n",
            "[[ 5.]\n",
            " [ 3.]\n",
            " [-2.]]\n"
          ]
        }
      ]
    },
    {
      "cell_type": "code",
      "metadata": {
        "colab": {
          "base_uri": "https://localhost:8080/"
        },
        "id": "OH9RCnfSV20C",
        "outputId": "3953316e-c69a-4f00-ebf9-d718ea2d23f1"
      },
      "source": [
        "A= np.array([[20,10],[17,22]]) #creation of Matrix A\n",
        "print(A)\n",
        "inv_A = np.linalg.inv(A) #Inverse of matrix A\n",
        "print(inv_A)"
      ],
      "execution_count": 6,
      "outputs": [
        {
          "output_type": "stream",
          "name": "stdout",
          "text": [
            "[[20 10]\n",
            " [17 22]]\n",
            "[[ 0.08148148 -0.03703704]\n",
            " [-0.06296296  0.07407407]]\n"
          ]
        }
      ]
    },
    {
      "cell_type": "code",
      "metadata": {
        "colab": {
          "base_uri": "https://localhost:8080/"
        },
        "id": "XTSaW6QVV41B",
        "outputId": "0281a8ff-bb8f-4738-a768-5e12329cc575"
      },
      "source": [
        "B= np.array([[350],[500]]) #Creation of Matrix B\n",
        "print(B)"
      ],
      "execution_count": 7,
      "outputs": [
        {
          "output_type": "stream",
          "name": "stdout",
          "text": [
            "[[350]\n",
            " [500]]\n"
          ]
        }
      ]
    },
    {
      "cell_type": "code",
      "metadata": {
        "colab": {
          "base_uri": "https://localhost:8080/"
        },
        "id": "9ZNncjeKV6Em",
        "outputId": "f27abb98-ab64-4f89-aa20-4cfb7ef1a746"
      },
      "source": [
        "X = np.dot(inv_A,B) #To get dot product of Inverse of A and B\n",
        "\n",
        "print(X)"
      ],
      "execution_count": 8,
      "outputs": [
        {
          "output_type": "stream",
          "name": "stdout",
          "text": [
            "[[10.]\n",
            " [15.]]\n"
          ]
        }
      ]
    },
    {
      "cell_type": "markdown",
      "metadata": {
        "id": "EJszRVZCV8PS"
      },
      "source": [
        "##To check if the answer is correct"
      ]
    },
    {
      "cell_type": "code",
      "metadata": {
        "colab": {
          "base_uri": "https://localhost:8080/"
        },
        "id": "y6r2uVvBV9Ro",
        "outputId": "5c437b99-2c32-4ea5-f54c-b05d7fe1ca1e"
      },
      "source": [
        "B = np.dot(A,X)\n",
        "print(B)"
      ],
      "execution_count": 9,
      "outputs": [
        {
          "output_type": "stream",
          "name": "stdout",
          "text": [
            "[[350.]\n",
            " [500.]]\n"
          ]
        }
      ]
    }
  ]
}