{
  "nbformat": 4,
  "nbformat_minor": 0,
  "metadata": {
    "colab": {
      "name": "Application.ipynb",
      "provenance": [],
      "authorship_tag": "ABX9TyMiyeA2vJvMhZQUxNwsZNPf",
      "include_colab_link": true
    },
    "kernelspec": {
      "name": "python3",
      "display_name": "Python 3"
    },
    "language_info": {
      "name": "python"
    }
  },
  "cells": [
    {
      "cell_type": "markdown",
      "metadata": {
        "id": "view-in-github",
        "colab_type": "text"
      },
      "source": [
        "<a href=\"https://colab.research.google.com/github/DeeMastah/Linear-Algebra-58019/blob/main/Application.ipynb\" target=\"_parent\"><img src=\"https://colab.research.google.com/assets/colab-badge.svg\" alt=\"Open In Colab\"/></a>"
      ]
    },
    {
      "cell_type": "markdown",
      "metadata": {
        "id": "U50jLP8bRT7A"
      },
      "source": [
        "The price of one apple and one orange"
      ]
    },
    {
      "cell_type": "code",
      "metadata": {
        "id": "1T81vxNyQcsQ"
      },
      "source": [
        "import numpy as np"
      ],
      "execution_count": 2,
      "outputs": []
    },
    {
      "cell_type": "code",
      "metadata": {
        "colab": {
          "base_uri": "https://localhost:8080/"
        },
        "id": "aXC26rb-RB2b",
        "outputId": "997e757f-eea3-4583-8190-bad86fd30dfe"
      },
      "source": [
        "A = np.array([[20,10],[17,22]])\n",
        "B = np.array([[350],[500]])\n",
        "\n",
        "print(A)\n",
        "print(B)"
      ],
      "execution_count": 3,
      "outputs": [
        {
          "output_type": "stream",
          "name": "stdout",
          "text": [
            "[[20 10]\n",
            " [17 22]]\n",
            "[[350]\n",
            " [500]]\n"
          ]
        }
      ]
    },
    {
      "cell_type": "code",
      "metadata": {
        "colab": {
          "base_uri": "https://localhost:8080/"
        },
        "id": "WIstZVvzREA6",
        "outputId": "53eb6ba2-d852-4954-e4ab-28eaeb243120"
      },
      "source": [
        "#Another step on how to solve linear equations with NumPy and linalg.solve\n",
        "\n",
        "A = np.array([[20,10],[17,22]])\n",
        "B = np.array([[350],[500]])\n",
        "print(A)\n",
        "print(B)\n",
        "X = np.linalg.solve(A,B)\n",
        "print(X)"
      ],
      "execution_count": 4,
      "outputs": [
        {
          "output_type": "stream",
          "name": "stdout",
          "text": [
            "[[20 10]\n",
            " [17 22]]\n",
            "[[350]\n",
            " [500]]\n",
            "[[10.]\n",
            " [15.]]\n"
          ]
        }
      ]
    },
    {
      "cell_type": "code",
      "metadata": {
        "colab": {
          "base_uri": "https://localhost:8080/"
        },
        "id": "KZEM9SbKRF85",
        "outputId": "93ce098b-8eac-4e63-80a0-12d14d9c5629"
      },
      "source": [
        "import numpy as np\n",
        "from scipy.linalg import solve #Another option you can try using SciPy \n",
        "\n",
        "A = np.array([[20,10],[17,22]])\n",
        "B = np.array([[350],[500]])\n",
        "print(A)\n",
        "print(B)\n",
        "X = solve (A,B)\n",
        "print(X)"
      ],
      "execution_count": 5,
      "outputs": [
        {
          "output_type": "stream",
          "name": "stdout",
          "text": [
            "[[20 10]\n",
            " [17 22]]\n",
            "[[350]\n",
            " [500]]\n",
            "[[10.]\n",
            " [15.]]\n"
          ]
        }
      ]
    },
    {
      "cell_type": "code",
      "metadata": {
        "colab": {
          "base_uri": "https://localhost:8080/"
        },
        "id": "IPUjpniERH9X",
        "outputId": "021697fa-4d53-41d3-aafa-6d23ca93f389"
      },
      "source": [
        "inv_A = np.linalg.inv(A) #Inverse of matrix A\n",
        "print(inv_A)\n",
        "X = np.linalg.inv(A).dot(B) #Unknown values of determining x and y\n",
        "print(X)"
      ],
      "execution_count": 6,
      "outputs": [
        {
          "output_type": "stream",
          "name": "stdout",
          "text": [
            "[[ 0.08148148 -0.03703704]\n",
            " [-0.06296296  0.07407407]]\n",
            "[[10.]\n",
            " [15.]]\n"
          ]
        }
      ]
    },
    {
      "cell_type": "code",
      "metadata": {
        "colab": {
          "base_uri": "https://localhost:8080/"
        },
        "id": "T29Zy0yoRJ78",
        "outputId": "c107ba04-2912-496f-cbe7-eeaa646d93f5"
      },
      "source": [
        "#Another option you can try\n",
        "\n",
        "X = np.dot(inv_A,B)\n",
        "print(X)"
      ],
      "execution_count": 7,
      "outputs": [
        {
          "output_type": "stream",
          "name": "stdout",
          "text": [
            "[[10.]\n",
            " [15.]]\n"
          ]
        }
      ]
    },
    {
      "cell_type": "markdown",
      "metadata": {
        "id": "_0F2i6hgRN8B"
      },
      "source": [
        "Solving for three linear equations with unknown variables of x, y, and z"
      ]
    },
    {
      "cell_type": "code",
      "metadata": {
        "colab": {
          "base_uri": "https://localhost:8080/"
        },
        "id": "ga4dWe7iRLXX",
        "outputId": "54e2cdc1-1458-4ac7-db3c-75e7b213bd82"
      },
      "source": [
        "#Three linear equations with x, y, and z are unknown\n",
        "#4x+3y+2z=25\n",
        "#-2z+2y+3z=-10\n",
        "#3x-5y+2x=-4\n",
        "\n",
        "A = np.array([[4,3,2],[-2,2,3],[3,-5,2]])\n",
        "print(A)\n",
        "B = np.array([[25],[-10],[-4]])\n",
        "print (B)\n",
        "X = solve(A,B) \n",
        "print(X)"
      ],
      "execution_count": 9,
      "outputs": [
        {
          "output_type": "stream",
          "name": "stdout",
          "text": [
            "[[ 4  3  2]\n",
            " [-2  2  3]\n",
            " [ 3 -5  2]]\n",
            "[[ 25]\n",
            " [-10]\n",
            " [ -4]]\n",
            "[[ 5.]\n",
            " [ 3.]\n",
            " [-2.]]\n"
          ]
        }
      ]
    }
  ]
}